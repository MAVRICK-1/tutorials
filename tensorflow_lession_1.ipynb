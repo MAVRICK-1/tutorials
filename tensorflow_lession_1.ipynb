{
  "nbformat": 4,
  "nbformat_minor": 0,
  "metadata": {
    "colab": {
      "provenance": [],
      "toc_visible": true,
      "authorship_tag": "ABX9TyMSbFbIosY1Vz/+khJtQGnf",
      "include_colab_link": true
    },
    "kernelspec": {
      "name": "python3",
      "display_name": "Python 3"
    },
    "language_info": {
      "name": "python"
    }
  },
  "cells": [
    {
      "cell_type": "markdown",
      "metadata": {
        "id": "view-in-github",
        "colab_type": "text"
      },
      "source": [
        "<a href=\"https://colab.research.google.com/github/MAVRICK-1/tutorials/blob/main/tensorflow_lession_1.ipynb\" target=\"_parent\"><img src=\"https://colab.research.google.com/assets/colab-badge.svg\" alt=\"Open In Colab\"/></a>"
      ]
    },
    {
      "cell_type": "code",
      "execution_count": 1,
      "metadata": {
        "id": "7WHO1JuiAAbR"
      },
      "outputs": [],
      "source": [
        "import tensorflow as tf"
      ]
    },
    {
      "cell_type": "code",
      "source": [
        "tenser_zero_dim = tf.constant(42)\n",
        "print(tenser_zero_dim)"
      ],
      "metadata": {
        "colab": {
          "base_uri": "https://localhost:8080/"
        },
        "id": "dHGcDkSKCeHY",
        "outputId": "fc15b040-aa36-48c2-82f6-907cd0060e0c"
      },
      "execution_count": 4,
      "outputs": [
        {
          "output_type": "stream",
          "name": "stdout",
          "text": [
            "tf.Tensor(42, shape=(), dtype=int32)\n"
          ]
        }
      ]
    },
    {
      "cell_type": "code",
      "source": [
        "tensor_one_dim = tf.constant([1,2,3])\n",
        "print(tensor_one_dim)\n"
      ],
      "metadata": {
        "colab": {
          "base_uri": "https://localhost:8080/"
        },
        "id": "Dbsu6I0qAx3L",
        "outputId": "2e0cf7ef-1440-456a-8167-59a7716bfe99"
      },
      "execution_count": 2,
      "outputs": [
        {
          "output_type": "stream",
          "name": "stdout",
          "text": [
            "tf.Tensor([1 2 3], shape=(3,), dtype=int32)\n"
          ]
        }
      ]
    },
    {
      "cell_type": "markdown",
      "source": [
        "In the line tensor_one_dim = tf.constant([1,2,3]), tf.constant is a function that creates a TensorFlow constant tensor.\n",
        "\n",
        "**Reasoning**:\n",
        "\n",
        "- **TensorFlow**: TensorFlow is a library for numerical computation,\n",
        "particularly well-suited for machine learning tasks.\n",
        "- **Tensor**: In TensorFlow, a tensor is a multi-dimensional array of elements representing data. It's the fundamental building block.\n",
        "- **Constant**: A constant tensor is a tensor whose value is fixed and cannot be changed during program execution.\n",
        "\n",
        "In simpler terms:\n",
        "\n",
        "Imagine a container that holds data. tf.constant creates this container, and you fill it with the values [1,2,3]. This container is now a constant, meaning the values inside cannot be changed.\n",
        "\n",
        "In the given code: tensor_one_dim = tf.constant([1,2,3]) creates a one-dimensional constant tensor named tensor_one_dim and initializes it with the values 1, 2, and 3."
      ],
      "metadata": {
        "id": "2000Sn6aBVao"
      }
    },
    {
      "cell_type": "code",
      "source": [
        "tensor_two_dim = tf.constant([[1,2,3],[4,5,6]])\n",
        "print(tensor_two_dim)"
      ],
      "metadata": {
        "colab": {
          "base_uri": "https://localhost:8080/"
        },
        "id": "jKxRZf1vA4Y2",
        "outputId": "cbe79859-4d92-47e3-9c0f-4b4330a41396"
      },
      "execution_count": 3,
      "outputs": [
        {
          "output_type": "stream",
          "name": "stdout",
          "text": [
            "tf.Tensor(\n",
            "[[1 2 3]\n",
            " [4 5 6]], shape=(2, 3), dtype=int32)\n"
          ]
        }
      ]
    },
    {
      "cell_type": "code",
      "source": [
        "tensor_three_dim = tf.constant([[[1,2,3],[4,5,6]],[[7,8,9],[10,11,12]]])\n",
        "print(tensor_three_dim)"
      ],
      "metadata": {
        "colab": {
          "base_uri": "https://localhost:8080/"
        },
        "id": "n4NvVROjCpPs",
        "outputId": "7f5a6688-139e-4361-f007-e346f7e9830e"
      },
      "execution_count": 5,
      "outputs": [
        {
          "output_type": "stream",
          "name": "stdout",
          "text": [
            "tf.Tensor(\n",
            "[[[ 1  2  3]\n",
            "  [ 4  5  6]]\n",
            "\n",
            " [[ 7  8  9]\n",
            "  [10 11 12]]], shape=(2, 2, 3), dtype=int32)\n"
          ]
        }
      ]
    },
    {
      "cell_type": "markdown",
      "source": [
        "Explanation:\n",
        "\n",
        "tf.Tensor: This indicates that the output is a TensorFlow Tensor object. Tensors are the fundamental data structures in TensorFlow.\n",
        "\n",
        "`[[[ 1 2 3] [ 4 5 6]] [[ 7 8 9] [10 11 12]]]`: This represents the actual data within the tensor. It's a 3-dimensional array with the values you provided in the code.\n",
        "\n",
        "`shape=(2, 2, 3)`: This describes the dimensions of the tensor. It means the tensor has:\n",
        "\n",
        "outer arrays (the first level)\n",
        "\n",
        "Each outer array contains 2 inner arrays (the second level)\n",
        "Each inner array has 3 elements (the third level)\n",
        "dtype=int32: This specifies the data type of the elements in the tensor, which is 32-bit integers in this case.\n",
        "\n",
        "In simpler terms:\n",
        "\n",
        "Imagine a container (the tensor) that holds other containers. Inside the main container are 2 boxes. Each of those boxes contains 2 smaller boxes, and each smaller box holds 3 numbers (1, 2, 3, etc.). The shape tells us how many boxes and sub-boxes there are, and the dtype tells us what type of data is stored in the smallest boxes (in this case, integers)."
      ],
      "metadata": {
        "id": "IGYdlbrSDMcw"
      }
    },
    {
      "cell_type": "code",
      "source": [
        "print(tensor_three_dim.shape)\n",
        "print(tensor_three_dim.dtype)\n",
        "print(tensor_three_dim.ndim)\n",
        "print(type(tensor_three_dim))"
      ],
      "metadata": {
        "colab": {
          "base_uri": "https://localhost:8080/"
        },
        "id": "m5LTiS2oDoIn",
        "outputId": "9d270762-e3f7-4e35-bb6b-c935f366d905"
      },
      "execution_count": 8,
      "outputs": [
        {
          "output_type": "stream",
          "name": "stdout",
          "text": [
            "(2, 2, 3)\n",
            "<dtype: 'int32'>\n",
            "3\n",
            "<class 'tensorflow.python.framework.ops.EagerTensor'>\n"
          ]
        }
      ]
    },
    {
      "cell_type": "code",
      "source": [
        "tensorflow_cast = tf.constant([2.,0.,8,7],dtype=tf.float16)\n",
        "tensorflow_cast_int = tf.cast(tensorflow_cast,dtype=tf.int16)\n",
        "tensorflow_cast_bool = tf.cast(tensorflow_cast,dtype=tf.bool)\n",
        "print(tensorflow_cast)\n",
        "print(tensorflow_cast_int)\n",
        "print(tensorflow_cast_bool)"
      ],
      "metadata": {
        "colab": {
          "base_uri": "https://localhost:8080/"
        },
        "id": "7nLzYm6jGj-p",
        "outputId": "2d8b5bb8-7efd-418d-98b7-721b388efa79"
      },
      "execution_count": 9,
      "outputs": [
        {
          "output_type": "stream",
          "name": "stdout",
          "text": [
            "tf.Tensor([2. 0. 8. 7.], shape=(4,), dtype=float16)\n",
            "tf.Tensor([2 0 8 7], shape=(4,), dtype=int16)\n",
            "tf.Tensor([ True False  True  True], shape=(4,), dtype=bool)\n"
          ]
        }
      ]
    },
    {
      "cell_type": "code",
      "source": [
        "import numpy as np\n",
        "numpy_A = np.arange(1,25,dtype=np.int32)\n",
        "print(numpy_A)"
      ],
      "metadata": {
        "colab": {
          "base_uri": "https://localhost:8080/"
        },
        "id": "3RCGtiLYHlDW",
        "outputId": "fd8c0785-098e-4f64-e88b-483d68f37ccc"
      },
      "execution_count": 10,
      "outputs": [
        {
          "output_type": "stream",
          "name": "stdout",
          "text": [
            "[ 1  2  3  4  5  6  7  8  9 10 11 12 13 14 15 16 17 18 19 20 21 22 23 24]\n"
          ]
        }
      ]
    },
    {
      "cell_type": "code",
      "source": [
        "converted_tensor = tf.convert_to_tensor(numpy_A)\n",
        "print(converted_tensor)"
      ],
      "metadata": {
        "colab": {
          "base_uri": "https://localhost:8080/"
        },
        "id": "QjK7u5ELHuqj",
        "outputId": "652fc83f-b6ad-48bb-cd59-117ec61d24bb"
      },
      "execution_count": 11,
      "outputs": [
        {
          "output_type": "stream",
          "name": "stdout",
          "text": [
            "tf.Tensor([ 1  2  3  4  5  6  7  8  9 10 11 12 13 14 15 16 17 18 19 20 21 22 23 24], shape=(24,), dtype=int32)\n"
          ]
        }
      ]
    },
    {
      "cell_type": "code",
      "source": [
        "eye_tensor = tf.eye(\n",
        "    num_rows=3,\n",
        "    num_columns=None,\n",
        "    batch_shape=None,\n",
        "    dtype=tf.dtypes.float32,\n",
        "    name=None)\n",
        "print(eye_tensor)\n"
      ],
      "metadata": {
        "colab": {
          "base_uri": "https://localhost:8080/"
        },
        "id": "yWWERl09H7KZ",
        "outputId": "3bee1500-66aa-4006-f8f1-2c280c072be0"
      },
      "execution_count": 12,
      "outputs": [
        {
          "output_type": "stream",
          "name": "stdout",
          "text": [
            "tf.Tensor(\n",
            "[[1. 0. 0.]\n",
            " [0. 1. 0.]\n",
            " [0. 0. 1.]], shape=(3, 3), dtype=float32)\n"
          ]
        }
      ]
    },
    {
      "cell_type": "code",
      "source": [],
      "metadata": {
        "id": "gAWD88qaIbwd"
      },
      "execution_count": null,
      "outputs": []
    }
  ]
}